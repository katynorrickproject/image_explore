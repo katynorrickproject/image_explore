{
 "cells": [
  {
   "cell_type": "code",
   "execution_count": 11,
   "metadata": {},
   "outputs": [],
   "source": [
    "import os\n",
    "import pydicom"
   ]
  },
  {
   "cell_type": "markdown",
   "metadata": {},
   "source": [
    "## File Structure of our Data"
   ]
  },
  {
   "cell_type": "code",
   "execution_count": 3,
   "metadata": {},
   "outputs": [
    {
     "name": "stdout",
     "output_type": "stream",
     "text": [
      " \u001b[0m\u001b[01;34mdicom-images-test\u001b[0m/    \u001b[00;32mdownload_images.py\u001b[0m*  \u001b[00;32m'sample images.zip'\u001b[0m*\r\n",
      " \u001b[01;34mdicom-images-train\u001b[0m/   \u001b[00;32mmask_functions.py\u001b[0m*    \u001b[00;32msample_submission.csv\u001b[0m*\r\n"
     ]
    }
   ],
   "source": [
    "ls Data/"
   ]
  },
  {
   "cell_type": "code",
   "execution_count": 31,
   "metadata": {},
   "outputs": [],
   "source": [
    "train_url = 'Data/dicom-images-train'\n",
    "test_url = 'Data/dicom-images-test'"
   ]
  },
  {
   "cell_type": "markdown",
   "metadata": {},
   "source": [
    "### Let's take a peak into the training folder"
   ]
  },
  {
   "cell_type": "code",
   "execution_count": 39,
   "metadata": {},
   "outputs": [
    {
     "data": {
      "text/plain": [
       "['1.2.276.0.7230010.3.1.2.8323329.14175.1517875250.111308',\n",
       " '1.2.276.0.7230010.3.1.2.8323329.4743.1517875184.535077',\n",
       " '1.2.276.0.7230010.3.1.2.8323329.32037.1517875158.141615',\n",
       " '1.2.276.0.7230010.3.1.2.8323329.14170.1517875250.5353',\n",
       " '1.2.276.0.7230010.3.1.2.8323329.12876.1517875242.312230',\n",
       " '1.2.276.0.7230010.3.1.2.8323329.4310.1517875182.219134',\n",
       " '1.2.276.0.7230010.3.1.2.8323329.423.1517875162.870091',\n",
       " '1.2.276.0.7230010.3.1.2.8323329.31898.1517875157.389438',\n",
       " '1.2.276.0.7230010.3.1.2.8323329.2115.1517875171.246997',\n",
       " '1.2.276.0.7230010.3.1.2.8323329.11765.1517875234.686227',\n",
       " '1.2.276.0.7230010.3.1.2.8323329.5490.1517875188.447709',\n",
       " '1.2.276.0.7230010.3.1.2.8323329.5540.1517875188.718773',\n",
       " '1.2.276.0.7230010.3.1.2.8323329.314.1517875162.344456',\n",
       " '1.2.276.0.7230010.3.1.2.8323329.13195.1517875244.82000',\n",
       " '1.2.276.0.7230010.3.1.2.8323329.2401.1517875172.546990']"
      ]
     },
     "execution_count": 39,
     "metadata": {},
     "output_type": "execute_result"
    }
   ],
   "source": [
    "os.listdir(train_url)[0:15]"
   ]
  },
  {
   "cell_type": "markdown",
   "metadata": {},
   "source": [
    "Looking into one of the subdirectories"
   ]
  },
  {
   "cell_type": "code",
   "execution_count": 8,
   "metadata": {},
   "outputs": [
    {
     "data": {
      "text/plain": [
       "['1.2.276.0.7230010.3.1.3.8323329.14175.1517875250.111307']"
      ]
     },
     "execution_count": 8,
     "metadata": {},
     "output_type": "execute_result"
    }
   ],
   "source": [
    "os.listdir(train_url+'/1.2.276.0.7230010.3.1.2.8323329.14175.1517875250.111308')"
   ]
  },
  {
   "cell_type": "markdown",
   "metadata": {},
   "source": [
    "Taking 1 more step into the file structure"
   ]
  },
  {
   "cell_type": "code",
   "execution_count": 43,
   "metadata": {},
   "outputs": [
    {
     "data": {
      "text/plain": [
       "['1.2.276.0.7230010.3.1.4.8323329.14175.1517875250.111309.dcm']"
      ]
     },
     "execution_count": 43,
     "metadata": {},
     "output_type": "execute_result"
    }
   ],
   "source": [
    "os.listdir(train_url+'/1.2.276.0.7230010.3.1.2.8323329.14175.1517875250.111308/1.2.276.0.7230010.3.1.3.8323329.14175.1517875250.111307')"
   ]
  },
  {
   "cell_type": "markdown",
   "metadata": {},
   "source": [
    "There is our DCM files."
   ]
  },
  {
   "cell_type": "markdown",
   "metadata": {},
   "source": [
    "Let's write a function that grabs the .dcm files from each of the directories in the training folder"
   ]
  },
  {
   "cell_type": "code",
   "execution_count": 47,
   "metadata": {},
   "outputs": [],
   "source": [
    "x = []\n",
    "for dir_ in os.listdir(train_url)[1:5]:\n",
    "    path = train_url+'/'+dir_\n",
    "    for subdir_ in os.listdir(path):\n",
    "        for file in os.listdir(path+'/'+subdir_):\n",
    "            x.append(pydicom.dcmread(path+'/'+subdir_+'/'+file))"
   ]
  },
  {
   "cell_type": "code",
   "execution_count": 51,
   "metadata": {},
   "outputs": [
    {
     "name": "stdout",
     "output_type": "stream",
     "text": [
      "4\n"
     ]
    },
    {
     "data": {
      "text/plain": [
       "[(0008, 0005) Specific Character Set              CS: 'ISO_IR 100'\n",
       " (0008, 0016) SOP Class UID                       UI: Secondary Capture Image Storage\n",
       " (0008, 0018) SOP Instance UID                    UI: 1.2.276.0.7230010.3.1.4.8323329.4743.1517875184.535078\n",
       " (0008, 0020) Study Date                          DA: '19010101'\n",
       " (0008, 0030) Study Time                          TM: '000000.00'\n",
       " (0008, 0050) Accession Number                    SH: ''\n",
       " (0008, 0060) Modality                            CS: 'CR'\n",
       " (0008, 0064) Conversion Type                     CS: 'WSD'\n",
       " (0008, 0090) Referring Physician's Name          PN: ''\n",
       " (0008, 103e) Series Description                  LO: 'view: PA'\n",
       " (0010, 0010) Patient's Name                      PN: '3b913763-596e-4e36-8fe5-b9dd40791a19'\n",
       " (0010, 0020) Patient ID                          LO: '3b913763-596e-4e36-8fe5-b9dd40791a19'\n",
       " (0010, 0030) Patient's Birth Date                DA: ''\n",
       " (0010, 0040) Patient's Sex                       CS: 'F'\n",
       " (0010, 1010) Patient's Age                       AS: '56'\n",
       " (0018, 0015) Body Part Examined                  CS: 'CHEST'\n",
       " (0018, 5101) View Position                       CS: 'PA'\n",
       " (0020, 000d) Study Instance UID                  UI: 1.2.276.0.7230010.3.1.2.8323329.4743.1517875184.535077\n",
       " (0020, 000e) Series Instance UID                 UI: 1.2.276.0.7230010.3.1.3.8323329.4743.1517875184.535076\n",
       " (0020, 0010) Study ID                            SH: ''\n",
       " (0020, 0011) Series Number                       IS: \"1\"\n",
       " (0020, 0013) Instance Number                     IS: \"1\"\n",
       " (0020, 0020) Patient Orientation                 CS: ''\n",
       " (0028, 0002) Samples per Pixel                   US: 1\n",
       " (0028, 0004) Photometric Interpretation          CS: 'MONOCHROME2'\n",
       " (0028, 0010) Rows                                US: 1024\n",
       " (0028, 0011) Columns                             US: 1024\n",
       " (0028, 0030) Pixel Spacing                       DS: ['0.168', '0.168']\n",
       " (0028, 0100) Bits Allocated                      US: 8\n",
       " (0028, 0101) Bits Stored                         US: 8\n",
       " (0028, 0102) High Bit                            US: 7\n",
       " (0028, 0103) Pixel Representation                US: 0\n",
       " (0028, 2110) Lossy Image Compression             CS: '01'\n",
       " (0028, 2114) Lossy Image Compression Method      CS: 'ISO_10918_1'\n",
       " (7fe0, 0010) Pixel Data                          OB: Array of 100286 bytes,\n",
       " (0008, 0005) Specific Character Set              CS: 'ISO_IR 100'\n",
       " (0008, 0016) SOP Class UID                       UI: Secondary Capture Image Storage\n",
       " (0008, 0018) SOP Instance UID                    UI: 1.2.276.0.7230010.3.1.4.8323329.32037.1517875158.141616\n",
       " (0008, 0020) Study Date                          DA: '19010101'\n",
       " (0008, 0030) Study Time                          TM: '000000.00'\n",
       " (0008, 0050) Accession Number                    SH: ''\n",
       " (0008, 0060) Modality                            CS: 'CR'\n",
       " (0008, 0064) Conversion Type                     CS: 'WSD'\n",
       " (0008, 0090) Referring Physician's Name          PN: ''\n",
       " (0008, 103e) Series Description                  LO: 'view: PA'\n",
       " (0010, 0010) Patient's Name                      PN: '4c46f532-c5ef-489f-9520-f597bc4407d9'\n",
       " (0010, 0020) Patient ID                          LO: '4c46f532-c5ef-489f-9520-f597bc4407d9'\n",
       " (0010, 0030) Patient's Birth Date                DA: ''\n",
       " (0010, 0040) Patient's Sex                       CS: 'M'\n",
       " (0010, 1010) Patient's Age                       AS: '10'\n",
       " (0018, 0015) Body Part Examined                  CS: 'CHEST'\n",
       " (0018, 5101) View Position                       CS: 'PA'\n",
       " (0020, 000d) Study Instance UID                  UI: 1.2.276.0.7230010.3.1.2.8323329.32037.1517875158.141615\n",
       " (0020, 000e) Series Instance UID                 UI: 1.2.276.0.7230010.3.1.3.8323329.32037.1517875158.141614\n",
       " (0020, 0010) Study ID                            SH: ''\n",
       " (0020, 0011) Series Number                       IS: \"1\"\n",
       " (0020, 0013) Instance Number                     IS: \"1\"\n",
       " (0020, 0020) Patient Orientation                 CS: ''\n",
       " (0028, 0002) Samples per Pixel                   US: 1\n",
       " (0028, 0004) Photometric Interpretation          CS: 'MONOCHROME2'\n",
       " (0028, 0010) Rows                                US: 1024\n",
       " (0028, 0011) Columns                             US: 1024\n",
       " (0028, 0030) Pixel Spacing                       DS: ['0.139', '0.139']\n",
       " (0028, 0100) Bits Allocated                      US: 8\n",
       " (0028, 0101) Bits Stored                         US: 8\n",
       " (0028, 0102) High Bit                            US: 7\n",
       " (0028, 0103) Pixel Representation                US: 0\n",
       " (0028, 2110) Lossy Image Compression             CS: '01'\n",
       " (0028, 2114) Lossy Image Compression Method      CS: 'ISO_10918_1'\n",
       " (7fe0, 0010) Pixel Data                          OB: Array of 113828 bytes,\n",
       " (0008, 0005) Specific Character Set              CS: 'ISO_IR 100'\n",
       " (0008, 0016) SOP Class UID                       UI: Secondary Capture Image Storage\n",
       " (0008, 0018) SOP Instance UID                    UI: 1.2.276.0.7230010.3.1.4.8323329.14170.1517875250.5354\n",
       " (0008, 0020) Study Date                          DA: '19010101'\n",
       " (0008, 0030) Study Time                          TM: '000000.00'\n",
       " (0008, 0050) Accession Number                    SH: ''\n",
       " (0008, 0060) Modality                            CS: 'CR'\n",
       " (0008, 0064) Conversion Type                     CS: 'WSD'\n",
       " (0008, 0090) Referring Physician's Name          PN: ''\n",
       " (0008, 103e) Series Description                  LO: 'view: AP'\n",
       " (0010, 0010) Patient's Name                      PN: '0c0b5eb3-94c8-4094-9e73-dd6be8efa56a'\n",
       " (0010, 0020) Patient ID                          LO: '0c0b5eb3-94c8-4094-9e73-dd6be8efa56a'\n",
       " (0010, 0030) Patient's Birth Date                DA: ''\n",
       " (0010, 0040) Patient's Sex                       CS: 'M'\n",
       " (0010, 1010) Patient's Age                       AS: '24'\n",
       " (0018, 0015) Body Part Examined                  CS: 'CHEST'\n",
       " (0018, 5101) View Position                       CS: 'AP'\n",
       " (0020, 000d) Study Instance UID                  UI: 1.2.276.0.7230010.3.1.2.8323329.14170.1517875250.5353\n",
       " (0020, 000e) Series Instance UID                 UI: 1.2.276.0.7230010.3.1.3.8323329.14170.1517875250.5352\n",
       " (0020, 0010) Study ID                            SH: ''\n",
       " (0020, 0011) Series Number                       IS: \"1\"\n",
       " (0020, 0013) Instance Number                     IS: \"1\"\n",
       " (0020, 0020) Patient Orientation                 CS: ''\n",
       " (0028, 0002) Samples per Pixel                   US: 1\n",
       " (0028, 0004) Photometric Interpretation          CS: 'MONOCHROME2'\n",
       " (0028, 0010) Rows                                US: 1024\n",
       " (0028, 0011) Columns                             US: 1024\n",
       " (0028, 0030) Pixel Spacing                       DS: ['0.168', '0.168']\n",
       " (0028, 0100) Bits Allocated                      US: 8\n",
       " (0028, 0101) Bits Stored                         US: 8\n",
       " (0028, 0102) High Bit                            US: 7\n",
       " (0028, 0103) Pixel Representation                US: 0\n",
       " (0028, 2110) Lossy Image Compression             CS: '01'\n",
       " (0028, 2114) Lossy Image Compression Method      CS: 'ISO_10918_1'\n",
       " (7fe0, 0010) Pixel Data                          OB: Array of 110206 bytes,\n",
       " (0008, 0005) Specific Character Set              CS: 'ISO_IR 100'\n",
       " (0008, 0016) SOP Class UID                       UI: Secondary Capture Image Storage\n",
       " (0008, 0018) SOP Instance UID                    UI: 1.2.276.0.7230010.3.1.4.8323329.12876.1517875242.312231\n",
       " (0008, 0020) Study Date                          DA: '19010101'\n",
       " (0008, 0030) Study Time                          TM: '000000.00'\n",
       " (0008, 0050) Accession Number                    SH: ''\n",
       " (0008, 0060) Modality                            CS: 'CR'\n",
       " (0008, 0064) Conversion Type                     CS: 'WSD'\n",
       " (0008, 0090) Referring Physician's Name          PN: ''\n",
       " (0008, 103e) Series Description                  LO: 'view: PA'\n",
       " (0010, 0010) Patient's Name                      PN: '1125c9a9-c325-425d-b66a-f0913996a21c'\n",
       " (0010, 0020) Patient ID                          LO: '1125c9a9-c325-425d-b66a-f0913996a21c'\n",
       " (0010, 0030) Patient's Birth Date                DA: ''\n",
       " (0010, 0040) Patient's Sex                       CS: 'M'\n",
       " (0010, 1010) Patient's Age                       AS: '30'\n",
       " (0018, 0015) Body Part Examined                  CS: 'CHEST'\n",
       " (0018, 5101) View Position                       CS: 'PA'\n",
       " (0020, 000d) Study Instance UID                  UI: 1.2.276.0.7230010.3.1.2.8323329.12876.1517875242.312230\n",
       " (0020, 000e) Series Instance UID                 UI: 1.2.276.0.7230010.3.1.3.8323329.12876.1517875242.312229\n",
       " (0020, 0010) Study ID                            SH: ''\n",
       " (0020, 0011) Series Number                       IS: \"1\"\n",
       " (0020, 0013) Instance Number                     IS: \"1\"\n",
       " (0020, 0020) Patient Orientation                 CS: ''\n",
       " (0028, 0002) Samples per Pixel                   US: 1\n",
       " (0028, 0004) Photometric Interpretation          CS: 'MONOCHROME2'\n",
       " (0028, 0010) Rows                                US: 1024\n",
       " (0028, 0011) Columns                             US: 1024\n",
       " (0028, 0030) Pixel Spacing                       DS: ['0.139', '0.139']\n",
       " (0028, 0100) Bits Allocated                      US: 8\n",
       " (0028, 0101) Bits Stored                         US: 8\n",
       " (0028, 0102) High Bit                            US: 7\n",
       " (0028, 0103) Pixel Representation                US: 0\n",
       " (0028, 2110) Lossy Image Compression             CS: '01'\n",
       " (0028, 2114) Lossy Image Compression Method      CS: 'ISO_10918_1'\n",
       " (7fe0, 0010) Pixel Data                          OB: Array of 131952 bytes]"
      ]
     },
     "execution_count": 51,
     "metadata": {},
     "output_type": "execute_result"
    }
   ],
   "source": [
    "print(len(x))\n",
    "x"
   ]
  },
  {
   "cell_type": "markdown",
   "metadata": {},
   "source": [
    "perfect, let's turn that into a function now that we have a general version created"
   ]
  },
  {
   "cell_type": "code",
   "execution_count": 52,
   "metadata": {},
   "outputs": [],
   "source": [
    "def load_dicoms(path):\n",
    "    ## Adds a '/' to the end of the file path if it isn't already there\n",
    "    if path[-1] != '/':\n",
    "        path += '/'\n",
    "    x = []\n",
    "    for dir_ in os.listdir(path):\n",
    "        new_path = path+dir_\n",
    "        for subdir_ in os.listdir(new_path):\n",
    "            for file in os.listdir(new_path+'/'+subdir_):\n",
    "                x.append(pydicom.dcmread(new_path+'/'+subdir_+'/'+file,force=True))\n",
    "                \n",
    "    return x"
   ]
  },
  {
   "cell_type": "code",
   "execution_count": 37,
   "metadata": {},
   "outputs": [
    {
     "data": {
      "text/plain": [
       "(0008, 0005) Specific Character Set              CS: 'ISO_IR 100'\n",
       "(0008, 0016) SOP Class UID                       UI: Secondary Capture Image Storage\n",
       "(0008, 0018) SOP Instance UID                    UI: 1.2.276.0.7230010.3.1.4.8323329.14170.1517875250.5354\n",
       "(0008, 0020) Study Date                          DA: '19010101'\n",
       "(0008, 0030) Study Time                          TM: '000000.00'\n",
       "(0008, 0050) Accession Number                    SH: ''\n",
       "(0008, 0060) Modality                            CS: 'CR'\n",
       "(0008, 0064) Conversion Type                     CS: 'WSD'\n",
       "(0008, 0090) Referring Physician's Name          PN: ''\n",
       "(0008, 103e) Series Description                  LO: 'view: AP'\n",
       "(0010, 0010) Patient's Name                      PN: '0c0b5eb3-94c8-4094-9e73-dd6be8efa56a'\n",
       "(0010, 0020) Patient ID                          LO: '0c0b5eb3-94c8-4094-9e73-dd6be8efa56a'\n",
       "(0010, 0030) Patient's Birth Date                DA: ''\n",
       "(0010, 0040) Patient's Sex                       CS: 'M'\n",
       "(0010, 1010) Patient's Age                       AS: '24'\n",
       "(0018, 0015) Body Part Examined                  CS: 'CHEST'\n",
       "(0018, 5101) View Position                       CS: 'AP'\n",
       "(0020, 000d) Study Instance UID                  UI: 1.2.276.0.7230010.3.1.2.8323329.14170.1517875250.5353\n",
       "(0020, 000e) Series Instance UID                 UI: 1.2.276.0.7230010.3.1.3.8323329.14170.1517875250.5352\n",
       "(0020, 0010) Study ID                            SH: ''\n",
       "(0020, 0011) Series Number                       IS: \"1\"\n",
       "(0020, 0013) Instance Number                     IS: \"1\"\n",
       "(0020, 0020) Patient Orientation                 CS: ''\n",
       "(0028, 0002) Samples per Pixel                   US: 1\n",
       "(0028, 0004) Photometric Interpretation          CS: 'MONOCHROME2'\n",
       "(0028, 0010) Rows                                US: 1024\n",
       "(0028, 0011) Columns                             US: 1024\n",
       "(0028, 0030) Pixel Spacing                       DS: ['0.168', '0.168']\n",
       "(0028, 0100) Bits Allocated                      US: 8\n",
       "(0028, 0101) Bits Stored                         US: 8\n",
       "(0028, 0102) High Bit                            US: 7\n",
       "(0028, 0103) Pixel Representation                US: 0\n",
       "(0028, 2110) Lossy Image Compression             CS: '01'\n",
       "(0028, 2114) Lossy Image Compression Method      CS: 'ISO_10918_1'\n",
       "(7fe0, 0010) Pixel Data                          OB: Array of 110206 bytes"
      ]
     },
     "execution_count": 37,
     "metadata": {},
     "output_type": "execute_result"
    }
   ],
   "source": [
    "load_dicoms(train_url)[2]"
   ]
  },
  {
   "cell_type": "code",
   "execution_count": null,
   "metadata": {},
   "outputs": [],
   "source": []
  }
 ],
 "metadata": {
  "kernelspec": {
   "display_name": "Python 3",
   "language": "python",
   "name": "python3"
  },
  "language_info": {
   "codemirror_mode": {
    "name": "ipython",
    "version": 3
   },
   "file_extension": ".py",
   "mimetype": "text/x-python",
   "name": "python",
   "nbconvert_exporter": "python",
   "pygments_lexer": "ipython3",
   "version": "3.7.3"
  }
 },
 "nbformat": 4,
 "nbformat_minor": 2
}
